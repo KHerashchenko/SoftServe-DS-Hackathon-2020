{
 "cells": [
  {
   "cell_type": "markdown",
   "metadata": {},
   "source": [
    "## Packages"
   ]
  },
  {
   "cell_type": "code",
   "execution_count": 1,
   "metadata": {},
   "outputs": [
    {
     "name": "stdout",
     "output_type": "stream",
     "text": [
      "Populating the interactive namespace from numpy and matplotlib\n"
     ]
    }
   ],
   "source": [
    "import pandas as pd\n",
    "import seaborn as sns\n",
    "from sklearn import preprocessing, ensemble, model_selection\n",
    "\n",
    "%pylab inline"
   ]
  },
  {
   "cell_type": "markdown",
   "metadata": {},
   "source": [
    "## Overview of the Problem set"
   ]
  },
  {
   "cell_type": "code",
   "execution_count": 2,
   "metadata": {},
   "outputs": [
    {
     "data": {
      "text/html": [
       "<div>\n",
       "<style scoped>\n",
       "    .dataframe tbody tr th:only-of-type {\n",
       "        vertical-align: middle;\n",
       "    }\n",
       "\n",
       "    .dataframe tbody tr th {\n",
       "        vertical-align: top;\n",
       "    }\n",
       "\n",
       "    .dataframe thead th {\n",
       "        text-align: right;\n",
       "    }\n",
       "</style>\n",
       "<table border=\"1\" class=\"dataframe\">\n",
       "  <thead>\n",
       "    <tr style=\"text-align: right;\">\n",
       "      <th></th>\n",
       "      <th>EmployeeID</th>\n",
       "      <th>Date</th>\n",
       "      <th>DevCenterID</th>\n",
       "      <th>SBUID</th>\n",
       "      <th>PositionID</th>\n",
       "      <th>PositionLevel</th>\n",
       "      <th>IsTrainee</th>\n",
       "      <th>LanguageLevelID</th>\n",
       "      <th>CustomerID</th>\n",
       "      <th>ProjectID</th>\n",
       "      <th>...</th>\n",
       "      <th>HourLockedReserve</th>\n",
       "      <th>OnSite</th>\n",
       "      <th>CompetenceGroupID</th>\n",
       "      <th>FunctionalOfficeID</th>\n",
       "      <th>PaymentTypeId</th>\n",
       "      <th>BonusOneTime</th>\n",
       "      <th>APM</th>\n",
       "      <th>WageGross</th>\n",
       "      <th>MonthOnPosition</th>\n",
       "      <th>MonthOnSalary</th>\n",
       "    </tr>\n",
       "  </thead>\n",
       "  <tbody>\n",
       "    <tr>\n",
       "      <td>0</td>\n",
       "      <td>00116D71-E87D-4B64-A566-1F29B2A798A8</td>\n",
       "      <td>2017-07-01</td>\n",
       "      <td>3</td>\n",
       "      <td>292</td>\n",
       "      <td>70</td>\n",
       "      <td>2</td>\n",
       "      <td>0</td>\n",
       "      <td>11</td>\n",
       "      <td>893EA22F-08BE-4F11-AD93-C50746E4565F</td>\n",
       "      <td>7F97465B-ED3C-45DB-BE96-86C7E493F0CD</td>\n",
       "      <td>...</td>\n",
       "      <td>0</td>\n",
       "      <td>0</td>\n",
       "      <td>15</td>\n",
       "      <td>1</td>\n",
       "      <td>9</td>\n",
       "      <td>0</td>\n",
       "      <td>39</td>\n",
       "      <td>0.887446</td>\n",
       "      <td>1</td>\n",
       "      <td>1</td>\n",
       "    </tr>\n",
       "    <tr>\n",
       "      <td>1</td>\n",
       "      <td>00116D71-E87D-4B64-A566-1F29B2A798A8</td>\n",
       "      <td>2017-08-01</td>\n",
       "      <td>3</td>\n",
       "      <td>332</td>\n",
       "      <td>70</td>\n",
       "      <td>2</td>\n",
       "      <td>0</td>\n",
       "      <td>11</td>\n",
       "      <td>893EA22F-08BE-4F11-AD93-C50746E4565F</td>\n",
       "      <td>7F97465B-ED3C-45DB-BE96-86C7E493F0CD</td>\n",
       "      <td>...</td>\n",
       "      <td>0</td>\n",
       "      <td>0</td>\n",
       "      <td>15</td>\n",
       "      <td>1</td>\n",
       "      <td>9</td>\n",
       "      <td>200</td>\n",
       "      <td>28</td>\n",
       "      <td>0.887446</td>\n",
       "      <td>2</td>\n",
       "      <td>2</td>\n",
       "    </tr>\n",
       "    <tr>\n",
       "      <td>2</td>\n",
       "      <td>00116D71-E87D-4B64-A566-1F29B2A798A8</td>\n",
       "      <td>2017-09-01</td>\n",
       "      <td>3</td>\n",
       "      <td>332</td>\n",
       "      <td>70</td>\n",
       "      <td>2</td>\n",
       "      <td>0</td>\n",
       "      <td>11</td>\n",
       "      <td>893EA22F-08BE-4F11-AD93-C50746E4565F</td>\n",
       "      <td>7F97465B-ED3C-45DB-BE96-86C7E493F0CD</td>\n",
       "      <td>...</td>\n",
       "      <td>0</td>\n",
       "      <td>0</td>\n",
       "      <td>15</td>\n",
       "      <td>1</td>\n",
       "      <td>9</td>\n",
       "      <td>0</td>\n",
       "      <td>43</td>\n",
       "      <td>0.887446</td>\n",
       "      <td>3</td>\n",
       "      <td>3</td>\n",
       "    </tr>\n",
       "    <tr>\n",
       "      <td>3</td>\n",
       "      <td>00116D71-E87D-4B64-A566-1F29B2A798A8</td>\n",
       "      <td>2017-10-01</td>\n",
       "      <td>3</td>\n",
       "      <td>332</td>\n",
       "      <td>70</td>\n",
       "      <td>2</td>\n",
       "      <td>0</td>\n",
       "      <td>11</td>\n",
       "      <td>893EA22F-08BE-4F11-AD93-C50746E4565F</td>\n",
       "      <td>7F97465B-ED3C-45DB-BE96-86C7E493F0CD</td>\n",
       "      <td>...</td>\n",
       "      <td>0</td>\n",
       "      <td>0</td>\n",
       "      <td>15</td>\n",
       "      <td>1</td>\n",
       "      <td>9</td>\n",
       "      <td>0</td>\n",
       "      <td>49</td>\n",
       "      <td>0.887446</td>\n",
       "      <td>4</td>\n",
       "      <td>4</td>\n",
       "    </tr>\n",
       "    <tr>\n",
       "      <td>4</td>\n",
       "      <td>00116D71-E87D-4B64-A566-1F29B2A798A8</td>\n",
       "      <td>2017-11-01</td>\n",
       "      <td>3</td>\n",
       "      <td>332</td>\n",
       "      <td>70</td>\n",
       "      <td>2</td>\n",
       "      <td>0</td>\n",
       "      <td>11</td>\n",
       "      <td>893EA22F-08BE-4F11-AD93-C50746E4565F</td>\n",
       "      <td>7F97465B-ED3C-45DB-BE96-86C7E493F0CD</td>\n",
       "      <td>...</td>\n",
       "      <td>0</td>\n",
       "      <td>0</td>\n",
       "      <td>15</td>\n",
       "      <td>1</td>\n",
       "      <td>9</td>\n",
       "      <td>0</td>\n",
       "      <td>43</td>\n",
       "      <td>0.887446</td>\n",
       "      <td>5</td>\n",
       "      <td>5</td>\n",
       "    </tr>\n",
       "  </tbody>\n",
       "</table>\n",
       "<p>5 rows × 24 columns</p>\n",
       "</div>"
      ],
      "text/plain": [
       "                             EmployeeID       Date  DevCenterID  SBUID  \\\n",
       "0  00116D71-E87D-4B64-A566-1F29B2A798A8 2017-07-01            3    292   \n",
       "1  00116D71-E87D-4B64-A566-1F29B2A798A8 2017-08-01            3    332   \n",
       "2  00116D71-E87D-4B64-A566-1F29B2A798A8 2017-09-01            3    332   \n",
       "3  00116D71-E87D-4B64-A566-1F29B2A798A8 2017-10-01            3    332   \n",
       "4  00116D71-E87D-4B64-A566-1F29B2A798A8 2017-11-01            3    332   \n",
       "\n",
       "   PositionID  PositionLevel  IsTrainee  LanguageLevelID  \\\n",
       "0          70              2          0               11   \n",
       "1          70              2          0               11   \n",
       "2          70              2          0               11   \n",
       "3          70              2          0               11   \n",
       "4          70              2          0               11   \n",
       "\n",
       "                             CustomerID                             ProjectID  \\\n",
       "0  893EA22F-08BE-4F11-AD93-C50746E4565F  7F97465B-ED3C-45DB-BE96-86C7E493F0CD   \n",
       "1  893EA22F-08BE-4F11-AD93-C50746E4565F  7F97465B-ED3C-45DB-BE96-86C7E493F0CD   \n",
       "2  893EA22F-08BE-4F11-AD93-C50746E4565F  7F97465B-ED3C-45DB-BE96-86C7E493F0CD   \n",
       "3  893EA22F-08BE-4F11-AD93-C50746E4565F  7F97465B-ED3C-45DB-BE96-86C7E493F0CD   \n",
       "4  893EA22F-08BE-4F11-AD93-C50746E4565F  7F97465B-ED3C-45DB-BE96-86C7E493F0CD   \n",
       "\n",
       "   ...  HourLockedReserve  OnSite  CompetenceGroupID  FunctionalOfficeID  \\\n",
       "0  ...                  0       0                 15                   1   \n",
       "1  ...                  0       0                 15                   1   \n",
       "2  ...                  0       0                 15                   1   \n",
       "3  ...                  0       0                 15                   1   \n",
       "4  ...                  0       0                 15                   1   \n",
       "\n",
       "   PaymentTypeId  BonusOneTime  APM  WageGross  MonthOnPosition  MonthOnSalary  \n",
       "0              9             0   39   0.887446                1              1  \n",
       "1              9           200   28   0.887446                2              2  \n",
       "2              9             0   43   0.887446                3              3  \n",
       "3              9             0   49   0.887446                4              4  \n",
       "4              9             0   43   0.887446                5              5  \n",
       "\n",
       "[5 rows x 24 columns]"
      ]
     },
     "execution_count": 2,
     "metadata": {},
     "output_type": "execute_result"
    }
   ],
   "source": [
    "history = pd.read_csv('history.csv')\n",
    "history.Date = pd.to_datetime(history.Date)\n",
    "history.head()"
   ]
  },
  {
   "cell_type": "code",
   "execution_count": 3,
   "metadata": {},
   "outputs": [
    {
     "data": {
      "text/html": [
       "<div>\n",
       "<style scoped>\n",
       "    .dataframe tbody tr th:only-of-type {\n",
       "        vertical-align: middle;\n",
       "    }\n",
       "\n",
       "    .dataframe tbody tr th {\n",
       "        vertical-align: top;\n",
       "    }\n",
       "\n",
       "    .dataframe thead th {\n",
       "        text-align: right;\n",
       "    }\n",
       "</style>\n",
       "<table border=\"1\" class=\"dataframe\">\n",
       "  <thead>\n",
       "    <tr style=\"text-align: right;\">\n",
       "      <th></th>\n",
       "      <th>EmployeeID</th>\n",
       "      <th>HiringDate</th>\n",
       "      <th>DismissalDate</th>\n",
       "    </tr>\n",
       "  </thead>\n",
       "  <tbody>\n",
       "    <tr>\n",
       "      <td>0</td>\n",
       "      <td>01EDC1A7-5DA7-4939-854B-0002E0DF548D</td>\n",
       "      <td>2018-09-01</td>\n",
       "      <td>NaT</td>\n",
       "    </tr>\n",
       "    <tr>\n",
       "      <td>1</td>\n",
       "      <td>91C351D9-38A1-40CB-9B69-000774211859</td>\n",
       "      <td>2018-01-01</td>\n",
       "      <td>2019-02-01</td>\n",
       "    </tr>\n",
       "    <tr>\n",
       "      <td>2</td>\n",
       "      <td>D699327D-8A78-4FBE-9CEA-001355717D3F</td>\n",
       "      <td>2018-02-01</td>\n",
       "      <td>NaT</td>\n",
       "    </tr>\n",
       "    <tr>\n",
       "      <td>3</td>\n",
       "      <td>22102E27-5EEA-44F9-8632-0017B04B1236</td>\n",
       "      <td>2014-10-01</td>\n",
       "      <td>2018-05-01</td>\n",
       "    </tr>\n",
       "    <tr>\n",
       "      <td>4</td>\n",
       "      <td>08C0AFA9-ABC3-4FAF-8DE2-0018AE9A69F4</td>\n",
       "      <td>2010-09-01</td>\n",
       "      <td>NaT</td>\n",
       "    </tr>\n",
       "  </tbody>\n",
       "</table>\n",
       "</div>"
      ],
      "text/plain": [
       "                             EmployeeID HiringDate DismissalDate\n",
       "0  01EDC1A7-5DA7-4939-854B-0002E0DF548D 2018-09-01           NaT\n",
       "1  91C351D9-38A1-40CB-9B69-000774211859 2018-01-01    2019-02-01\n",
       "2  D699327D-8A78-4FBE-9CEA-001355717D3F 2018-02-01           NaT\n",
       "3  22102E27-5EEA-44F9-8632-0017B04B1236 2014-10-01    2018-05-01\n",
       "4  08C0AFA9-ABC3-4FAF-8DE2-0018AE9A69F4 2010-09-01           NaT"
      ]
     },
     "execution_count": 3,
     "metadata": {},
     "output_type": "execute_result"
    }
   ],
   "source": [
    "employees = pd.read_csv('employees.csv')\n",
    "employees.DismissalDate = pd.to_datetime(employees.DismissalDate)\n",
    "employees.HiringDate = pd.to_datetime(employees.HiringDate)\n",
    "employees.head()"
   ]
  },
  {
   "cell_type": "code",
   "execution_count": 4,
   "metadata": {},
   "outputs": [
    {
     "data": {
      "text/html": [
       "<div>\n",
       "<style scoped>\n",
       "    .dataframe tbody tr th:only-of-type {\n",
       "        vertical-align: middle;\n",
       "    }\n",
       "\n",
       "    .dataframe tbody tr th {\n",
       "        vertical-align: top;\n",
       "    }\n",
       "\n",
       "    .dataframe thead th {\n",
       "        text-align: right;\n",
       "    }\n",
       "</style>\n",
       "<table border=\"1\" class=\"dataframe\">\n",
       "  <thead>\n",
       "    <tr style=\"text-align: right;\">\n",
       "      <th></th>\n",
       "      <th>EmployeeID</th>\n",
       "      <th>HiringDate</th>\n",
       "      <th>DismissalDate</th>\n",
       "    </tr>\n",
       "  </thead>\n",
       "  <tbody>\n",
       "    <tr>\n",
       "      <td>0</td>\n",
       "      <td>01EDC1A7-5DA7-4939-854B-0002E0DF548D</td>\n",
       "      <td>2018-09-01</td>\n",
       "      <td>NaT</td>\n",
       "    </tr>\n",
       "  </tbody>\n",
       "</table>\n",
       "</div>"
      ],
      "text/plain": [
       "                             EmployeeID HiringDate DismissalDate\n",
       "0  01EDC1A7-5DA7-4939-854B-0002E0DF548D 2018-09-01           NaT"
      ]
     },
     "execution_count": 4,
     "metadata": {},
     "output_type": "execute_result"
    }
   ],
   "source": [
    "sample = employees.EmployeeID[0]\n",
    "employees[employees.EmployeeID == sample]"
   ]
  },
  {
   "cell_type": "code",
   "execution_count": 5,
   "metadata": {},
   "outputs": [
    {
     "data": {
      "text/html": [
       "<div>\n",
       "<style scoped>\n",
       "    .dataframe tbody tr th:only-of-type {\n",
       "        vertical-align: middle;\n",
       "    }\n",
       "\n",
       "    .dataframe tbody tr th {\n",
       "        vertical-align: top;\n",
       "    }\n",
       "\n",
       "    .dataframe thead th {\n",
       "        text-align: right;\n",
       "    }\n",
       "</style>\n",
       "<table border=\"1\" class=\"dataframe\">\n",
       "  <thead>\n",
       "    <tr style=\"text-align: right;\">\n",
       "      <th></th>\n",
       "      <th>EmployeeID</th>\n",
       "      <th>Date</th>\n",
       "      <th>DevCenterID</th>\n",
       "      <th>SBUID</th>\n",
       "      <th>PositionID</th>\n",
       "      <th>PositionLevel</th>\n",
       "      <th>IsTrainee</th>\n",
       "      <th>LanguageLevelID</th>\n",
       "      <th>CustomerID</th>\n",
       "      <th>ProjectID</th>\n",
       "      <th>...</th>\n",
       "      <th>HourLockedReserve</th>\n",
       "      <th>OnSite</th>\n",
       "      <th>CompetenceGroupID</th>\n",
       "      <th>FunctionalOfficeID</th>\n",
       "      <th>PaymentTypeId</th>\n",
       "      <th>BonusOneTime</th>\n",
       "      <th>APM</th>\n",
       "      <th>WageGross</th>\n",
       "      <th>MonthOnPosition</th>\n",
       "      <th>MonthOnSalary</th>\n",
       "    </tr>\n",
       "  </thead>\n",
       "  <tbody>\n",
       "    <tr>\n",
       "      <td>814</td>\n",
       "      <td>01EDC1A7-5DA7-4939-854B-0002E0DF548D</td>\n",
       "      <td>2018-09-01</td>\n",
       "      <td>8</td>\n",
       "      <td>255</td>\n",
       "      <td>891</td>\n",
       "      <td>2</td>\n",
       "      <td>0</td>\n",
       "      <td>9</td>\n",
       "      <td>2CAB77C6-1BF5-4FA8-957E-D8F5C7DED66F</td>\n",
       "      <td>9FFB72D5-B4BC-4D26-968A-9262A49BA0DA</td>\n",
       "      <td>...</td>\n",
       "      <td>0</td>\n",
       "      <td>0</td>\n",
       "      <td>0</td>\n",
       "      <td>-1</td>\n",
       "      <td>21</td>\n",
       "      <td>110</td>\n",
       "      <td>0</td>\n",
       "      <td>0.279321</td>\n",
       "      <td>1</td>\n",
       "      <td>1</td>\n",
       "    </tr>\n",
       "    <tr>\n",
       "      <td>815</td>\n",
       "      <td>01EDC1A7-5DA7-4939-854B-0002E0DF548D</td>\n",
       "      <td>2018-10-01</td>\n",
       "      <td>8</td>\n",
       "      <td>255</td>\n",
       "      <td>891</td>\n",
       "      <td>2</td>\n",
       "      <td>0</td>\n",
       "      <td>9</td>\n",
       "      <td>2CAB77C6-1BF5-4FA8-957E-D8F5C7DED66F</td>\n",
       "      <td>9FFB72D5-B4BC-4D26-968A-9262A49BA0DA</td>\n",
       "      <td>...</td>\n",
       "      <td>0</td>\n",
       "      <td>0</td>\n",
       "      <td>0</td>\n",
       "      <td>-1</td>\n",
       "      <td>22</td>\n",
       "      <td>110</td>\n",
       "      <td>0</td>\n",
       "      <td>0.262134</td>\n",
       "      <td>2</td>\n",
       "      <td>2</td>\n",
       "    </tr>\n",
       "    <tr>\n",
       "      <td>816</td>\n",
       "      <td>01EDC1A7-5DA7-4939-854B-0002E0DF548D</td>\n",
       "      <td>2018-11-01</td>\n",
       "      <td>8</td>\n",
       "      <td>255</td>\n",
       "      <td>891</td>\n",
       "      <td>2</td>\n",
       "      <td>0</td>\n",
       "      <td>9</td>\n",
       "      <td>2CAB77C6-1BF5-4FA8-957E-D8F5C7DED66F</td>\n",
       "      <td>9FFB72D5-B4BC-4D26-968A-9262A49BA0DA</td>\n",
       "      <td>...</td>\n",
       "      <td>0</td>\n",
       "      <td>0</td>\n",
       "      <td>0</td>\n",
       "      <td>-1</td>\n",
       "      <td>22</td>\n",
       "      <td>540</td>\n",
       "      <td>0</td>\n",
       "      <td>0.255562</td>\n",
       "      <td>3</td>\n",
       "      <td>3</td>\n",
       "    </tr>\n",
       "    <tr>\n",
       "      <td>817</td>\n",
       "      <td>01EDC1A7-5DA7-4939-854B-0002E0DF548D</td>\n",
       "      <td>2018-12-01</td>\n",
       "      <td>8</td>\n",
       "      <td>255</td>\n",
       "      <td>891</td>\n",
       "      <td>2</td>\n",
       "      <td>0</td>\n",
       "      <td>9</td>\n",
       "      <td>2CAB77C6-1BF5-4FA8-957E-D8F5C7DED66F</td>\n",
       "      <td>9FFB72D5-B4BC-4D26-968A-9262A49BA0DA</td>\n",
       "      <td>...</td>\n",
       "      <td>0</td>\n",
       "      <td>0</td>\n",
       "      <td>0</td>\n",
       "      <td>-1</td>\n",
       "      <td>22</td>\n",
       "      <td>380</td>\n",
       "      <td>0</td>\n",
       "      <td>0.255562</td>\n",
       "      <td>4</td>\n",
       "      <td>4</td>\n",
       "    </tr>\n",
       "    <tr>\n",
       "      <td>818</td>\n",
       "      <td>01EDC1A7-5DA7-4939-854B-0002E0DF548D</td>\n",
       "      <td>2019-01-01</td>\n",
       "      <td>8</td>\n",
       "      <td>255</td>\n",
       "      <td>891</td>\n",
       "      <td>2</td>\n",
       "      <td>0</td>\n",
       "      <td>9</td>\n",
       "      <td>2CAB77C6-1BF5-4FA8-957E-D8F5C7DED66F</td>\n",
       "      <td>9FFB72D5-B4BC-4D26-968A-9262A49BA0DA</td>\n",
       "      <td>...</td>\n",
       "      <td>0</td>\n",
       "      <td>0</td>\n",
       "      <td>0</td>\n",
       "      <td>-1</td>\n",
       "      <td>22</td>\n",
       "      <td>313</td>\n",
       "      <td>0</td>\n",
       "      <td>0.255562</td>\n",
       "      <td>5</td>\n",
       "      <td>5</td>\n",
       "    </tr>\n",
       "    <tr>\n",
       "      <td>819</td>\n",
       "      <td>01EDC1A7-5DA7-4939-854B-0002E0DF548D</td>\n",
       "      <td>2019-02-01</td>\n",
       "      <td>8</td>\n",
       "      <td>255</td>\n",
       "      <td>891</td>\n",
       "      <td>2</td>\n",
       "      <td>0</td>\n",
       "      <td>9</td>\n",
       "      <td>2CAB77C6-1BF5-4FA8-957E-D8F5C7DED66F</td>\n",
       "      <td>9FFB72D5-B4BC-4D26-968A-9262A49BA0DA</td>\n",
       "      <td>...</td>\n",
       "      <td>0</td>\n",
       "      <td>0</td>\n",
       "      <td>0</td>\n",
       "      <td>-1</td>\n",
       "      <td>22</td>\n",
       "      <td>802</td>\n",
       "      <td>0</td>\n",
       "      <td>0.255562</td>\n",
       "      <td>6</td>\n",
       "      <td>6</td>\n",
       "    </tr>\n",
       "  </tbody>\n",
       "</table>\n",
       "<p>6 rows × 24 columns</p>\n",
       "</div>"
      ],
      "text/plain": [
       "                               EmployeeID       Date  DevCenterID  SBUID  \\\n",
       "814  01EDC1A7-5DA7-4939-854B-0002E0DF548D 2018-09-01            8    255   \n",
       "815  01EDC1A7-5DA7-4939-854B-0002E0DF548D 2018-10-01            8    255   \n",
       "816  01EDC1A7-5DA7-4939-854B-0002E0DF548D 2018-11-01            8    255   \n",
       "817  01EDC1A7-5DA7-4939-854B-0002E0DF548D 2018-12-01            8    255   \n",
       "818  01EDC1A7-5DA7-4939-854B-0002E0DF548D 2019-01-01            8    255   \n",
       "819  01EDC1A7-5DA7-4939-854B-0002E0DF548D 2019-02-01            8    255   \n",
       "\n",
       "     PositionID  PositionLevel  IsTrainee  LanguageLevelID  \\\n",
       "814         891              2          0                9   \n",
       "815         891              2          0                9   \n",
       "816         891              2          0                9   \n",
       "817         891              2          0                9   \n",
       "818         891              2          0                9   \n",
       "819         891              2          0                9   \n",
       "\n",
       "                               CustomerID  \\\n",
       "814  2CAB77C6-1BF5-4FA8-957E-D8F5C7DED66F   \n",
       "815  2CAB77C6-1BF5-4FA8-957E-D8F5C7DED66F   \n",
       "816  2CAB77C6-1BF5-4FA8-957E-D8F5C7DED66F   \n",
       "817  2CAB77C6-1BF5-4FA8-957E-D8F5C7DED66F   \n",
       "818  2CAB77C6-1BF5-4FA8-957E-D8F5C7DED66F   \n",
       "819  2CAB77C6-1BF5-4FA8-957E-D8F5C7DED66F   \n",
       "\n",
       "                                ProjectID  ...  HourLockedReserve  OnSite  \\\n",
       "814  9FFB72D5-B4BC-4D26-968A-9262A49BA0DA  ...                  0       0   \n",
       "815  9FFB72D5-B4BC-4D26-968A-9262A49BA0DA  ...                  0       0   \n",
       "816  9FFB72D5-B4BC-4D26-968A-9262A49BA0DA  ...                  0       0   \n",
       "817  9FFB72D5-B4BC-4D26-968A-9262A49BA0DA  ...                  0       0   \n",
       "818  9FFB72D5-B4BC-4D26-968A-9262A49BA0DA  ...                  0       0   \n",
       "819  9FFB72D5-B4BC-4D26-968A-9262A49BA0DA  ...                  0       0   \n",
       "\n",
       "     CompetenceGroupID  FunctionalOfficeID  PaymentTypeId  BonusOneTime  APM  \\\n",
       "814                  0                  -1             21           110    0   \n",
       "815                  0                  -1             22           110    0   \n",
       "816                  0                  -1             22           540    0   \n",
       "817                  0                  -1             22           380    0   \n",
       "818                  0                  -1             22           313    0   \n",
       "819                  0                  -1             22           802    0   \n",
       "\n",
       "     WageGross  MonthOnPosition  MonthOnSalary  \n",
       "814   0.279321                1              1  \n",
       "815   0.262134                2              2  \n",
       "816   0.255562                3              3  \n",
       "817   0.255562                4              4  \n",
       "818   0.255562                5              5  \n",
       "819   0.255562                6              6  \n",
       "\n",
       "[6 rows x 24 columns]"
      ]
     },
     "execution_count": 5,
     "metadata": {},
     "output_type": "execute_result"
    }
   ],
   "source": [
    "history[history.EmployeeID == sample]"
   ]
  },
  {
   "cell_type": "code",
   "execution_count": 6,
   "metadata": {},
   "outputs": [
    {
     "data": {
      "text/html": [
       "<div>\n",
       "<style scoped>\n",
       "    .dataframe tbody tr th:only-of-type {\n",
       "        vertical-align: middle;\n",
       "    }\n",
       "\n",
       "    .dataframe tbody tr th {\n",
       "        vertical-align: top;\n",
       "    }\n",
       "\n",
       "    .dataframe thead th {\n",
       "        text-align: right;\n",
       "    }\n",
       "</style>\n",
       "<table border=\"1\" class=\"dataframe\">\n",
       "  <thead>\n",
       "    <tr style=\"text-align: right;\">\n",
       "      <th></th>\n",
       "      <th>EmployeeID</th>\n",
       "      <th>target</th>\n",
       "    </tr>\n",
       "  </thead>\n",
       "  <tbody>\n",
       "    <tr>\n",
       "      <td>38</td>\n",
       "      <td>01EDC1A7-5DA7-4939-854B-0002E0DF548D</td>\n",
       "      <td>0</td>\n",
       "    </tr>\n",
       "  </tbody>\n",
       "</table>\n",
       "</div>"
      ],
      "text/plain": [
       "                              EmployeeID  target\n",
       "38  01EDC1A7-5DA7-4939-854B-0002E0DF548D       0"
      ]
     },
     "execution_count": 6,
     "metadata": {},
     "output_type": "execute_result"
    }
   ],
   "source": [
    "submission = pd.read_csv('submission.csv')\n",
    "submission[submission.EmployeeID == sample]"
   ]
  },
  {
   "cell_type": "code",
   "execution_count": 7,
   "metadata": {},
   "outputs": [
    {
     "data": {
      "text/plain": [
       "count                   87766\n",
       "unique                     20\n",
       "top       2018-09-01 00:00:00\n",
       "freq                     4721\n",
       "first     2017-07-01 00:00:00\n",
       "last      2019-02-01 00:00:00\n",
       "Name: Date, dtype: object"
      ]
     },
     "execution_count": 7,
     "metadata": {},
     "output_type": "execute_result"
    }
   ],
   "source": [
    "history.Date.describe()"
   ]
  },
  {
   "cell_type": "code",
   "execution_count": 8,
   "metadata": {},
   "outputs": [
    {
     "data": {
      "text/plain": [
       "EmployeeID                    object\n",
       "Date                  datetime64[ns]\n",
       "DevCenterID                    int64\n",
       "SBUID                          int64\n",
       "PositionID                     int64\n",
       "PositionLevel                  int64\n",
       "IsTrainee                      int64\n",
       "LanguageLevelID                int64\n",
       "CustomerID                    object\n",
       "ProjectID                     object\n",
       "IsInternalProject              int64\n",
       "Utilization                  float64\n",
       "HourVacation                   int64\n",
       "HourMobileReserve              int64\n",
       "HourLockedReserve              int64\n",
       "OnSite                         int64\n",
       "CompetenceGroupID              int64\n",
       "FunctionalOfficeID             int64\n",
       "PaymentTypeId                  int64\n",
       "BonusOneTime                   int64\n",
       "APM                            int64\n",
       "WageGross                    float64\n",
       "MonthOnPosition                int64\n",
       "MonthOnSalary                  int64\n",
       "dtype: object"
      ]
     },
     "execution_count": 8,
     "metadata": {},
     "output_type": "execute_result"
    }
   ],
   "source": [
    "history.dtypes"
   ]
  },
  {
   "cell_type": "markdown",
   "metadata": {},
   "source": [
    "Общее количество работников за все время"
   ]
  },
  {
   "cell_type": "code",
   "execution_count": 9,
   "metadata": {},
   "outputs": [
    {
     "data": {
      "text/plain": [
       "5373"
      ]
     },
     "execution_count": 9,
     "metadata": {},
     "output_type": "execute_result"
    }
   ],
   "source": [
    "employees.shape[0]"
   ]
  },
  {
   "cell_type": "markdown",
   "metadata": {},
   "source": [
    "Количество работников, которые до сих пор работают"
   ]
  },
  {
   "cell_type": "code",
   "execution_count": 10,
   "metadata": {},
   "outputs": [
    {
     "data": {
      "text/plain": [
       "4356"
      ]
     },
     "execution_count": 10,
     "metadata": {},
     "output_type": "execute_result"
    }
   ],
   "source": [
    "hired_emplID = employees[employees.DismissalDate.isna()].EmployeeID\n",
    "hired_emplID.shape[0]"
   ]
  },
  {
   "cell_type": "markdown",
   "metadata": {},
   "source": [
    "Количество работников, которые уволились"
   ]
  },
  {
   "cell_type": "code",
   "execution_count": 11,
   "metadata": {},
   "outputs": [
    {
     "data": {
      "text/plain": [
       "1017"
      ]
     },
     "execution_count": 11,
     "metadata": {},
     "output_type": "execute_result"
    }
   ],
   "source": [
    "dismissed_emplID = employees[employees.DismissalDate.notna()].EmployeeID\n",
    "dismissed_emplID.shape[0]"
   ]
  },
  {
   "cell_type": "markdown",
   "metadata": {},
   "source": [
    "Количество работников, которые предсказываются "
   ]
  },
  {
   "cell_type": "code",
   "execution_count": 12,
   "metadata": {
    "scrolled": true
   },
   "outputs": [
    {
     "data": {
      "text/plain": [
       "4156"
      ]
     },
     "execution_count": 12,
     "metadata": {},
     "output_type": "execute_result"
    }
   ],
   "source": [
    "predict_emplID = submission.EmployeeID\n",
    "submission.shape[0]"
   ]
  },
  {
   "cell_type": "markdown",
   "metadata": {},
   "source": [
    "О потерянных 200 работниках: These employees are of no interest to risk assessment in terms of this competition due to specific circumstances with their employment that are not reflected in the historical data. Please, consider them as \"still working\" employees"
   ]
  },
  {
   "cell_type": "markdown",
   "metadata": {},
   "source": [
    "История работников, которые до сих пор работают"
   ]
  },
  {
   "cell_type": "code",
   "execution_count": 13,
   "metadata": {
    "scrolled": true
   },
   "outputs": [
    {
     "data": {
      "text/html": [
       "<div>\n",
       "<style scoped>\n",
       "    .dataframe tbody tr th:only-of-type {\n",
       "        vertical-align: middle;\n",
       "    }\n",
       "\n",
       "    .dataframe tbody tr th {\n",
       "        vertical-align: top;\n",
       "    }\n",
       "\n",
       "    .dataframe thead th {\n",
       "        text-align: right;\n",
       "    }\n",
       "</style>\n",
       "<table border=\"1\" class=\"dataframe\">\n",
       "  <thead>\n",
       "    <tr style=\"text-align: right;\">\n",
       "      <th></th>\n",
       "      <th></th>\n",
       "      <th>DevCenterID</th>\n",
       "      <th>SBUID</th>\n",
       "      <th>PositionID</th>\n",
       "      <th>PositionLevel</th>\n",
       "      <th>IsTrainee</th>\n",
       "      <th>LanguageLevelID</th>\n",
       "      <th>CustomerID</th>\n",
       "      <th>ProjectID</th>\n",
       "      <th>IsInternalProject</th>\n",
       "      <th>Utilization</th>\n",
       "      <th>...</th>\n",
       "      <th>OnSite</th>\n",
       "      <th>CompetenceGroupID</th>\n",
       "      <th>FunctionalOfficeID</th>\n",
       "      <th>PaymentTypeId</th>\n",
       "      <th>BonusOneTime</th>\n",
       "      <th>APM</th>\n",
       "      <th>WageGross</th>\n",
       "      <th>MonthOnPosition</th>\n",
       "      <th>MonthOnSalary</th>\n",
       "      <th>IsHired</th>\n",
       "    </tr>\n",
       "    <tr>\n",
       "      <th>EmployeeID</th>\n",
       "      <th>Date</th>\n",
       "      <th></th>\n",
       "      <th></th>\n",
       "      <th></th>\n",
       "      <th></th>\n",
       "      <th></th>\n",
       "      <th></th>\n",
       "      <th></th>\n",
       "      <th></th>\n",
       "      <th></th>\n",
       "      <th></th>\n",
       "      <th></th>\n",
       "      <th></th>\n",
       "      <th></th>\n",
       "      <th></th>\n",
       "      <th></th>\n",
       "      <th></th>\n",
       "      <th></th>\n",
       "      <th></th>\n",
       "      <th></th>\n",
       "      <th></th>\n",
       "      <th></th>\n",
       "    </tr>\n",
       "  </thead>\n",
       "  <tbody>\n",
       "    <tr>\n",
       "      <td rowspan=\"5\" valign=\"top\">00116D71-E87D-4B64-A566-1F29B2A798A8</td>\n",
       "      <td>2017-07-01</td>\n",
       "      <td>3</td>\n",
       "      <td>292</td>\n",
       "      <td>70</td>\n",
       "      <td>2</td>\n",
       "      <td>0</td>\n",
       "      <td>11</td>\n",
       "      <td>893EA22F-08BE-4F11-AD93-C50746E4565F</td>\n",
       "      <td>7F97465B-ED3C-45DB-BE96-86C7E493F0CD</td>\n",
       "      <td>0</td>\n",
       "      <td>0.7619</td>\n",
       "      <td>...</td>\n",
       "      <td>0</td>\n",
       "      <td>15</td>\n",
       "      <td>1</td>\n",
       "      <td>9</td>\n",
       "      <td>0</td>\n",
       "      <td>39</td>\n",
       "      <td>0.887446</td>\n",
       "      <td>1</td>\n",
       "      <td>1</td>\n",
       "      <td>True</td>\n",
       "    </tr>\n",
       "    <tr>\n",
       "      <td>2017-08-01</td>\n",
       "      <td>3</td>\n",
       "      <td>332</td>\n",
       "      <td>70</td>\n",
       "      <td>2</td>\n",
       "      <td>0</td>\n",
       "      <td>11</td>\n",
       "      <td>893EA22F-08BE-4F11-AD93-C50746E4565F</td>\n",
       "      <td>7F97465B-ED3C-45DB-BE96-86C7E493F0CD</td>\n",
       "      <td>0</td>\n",
       "      <td>1.0000</td>\n",
       "      <td>...</td>\n",
       "      <td>0</td>\n",
       "      <td>15</td>\n",
       "      <td>1</td>\n",
       "      <td>9</td>\n",
       "      <td>200</td>\n",
       "      <td>28</td>\n",
       "      <td>0.887446</td>\n",
       "      <td>2</td>\n",
       "      <td>2</td>\n",
       "      <td>True</td>\n",
       "    </tr>\n",
       "    <tr>\n",
       "      <td>2017-09-01</td>\n",
       "      <td>3</td>\n",
       "      <td>332</td>\n",
       "      <td>70</td>\n",
       "      <td>2</td>\n",
       "      <td>0</td>\n",
       "      <td>11</td>\n",
       "      <td>893EA22F-08BE-4F11-AD93-C50746E4565F</td>\n",
       "      <td>7F97465B-ED3C-45DB-BE96-86C7E493F0CD</td>\n",
       "      <td>0</td>\n",
       "      <td>0.5000</td>\n",
       "      <td>...</td>\n",
       "      <td>0</td>\n",
       "      <td>15</td>\n",
       "      <td>1</td>\n",
       "      <td>9</td>\n",
       "      <td>0</td>\n",
       "      <td>43</td>\n",
       "      <td>0.887446</td>\n",
       "      <td>3</td>\n",
       "      <td>3</td>\n",
       "      <td>True</td>\n",
       "    </tr>\n",
       "    <tr>\n",
       "      <td>2017-10-01</td>\n",
       "      <td>3</td>\n",
       "      <td>332</td>\n",
       "      <td>70</td>\n",
       "      <td>2</td>\n",
       "      <td>0</td>\n",
       "      <td>11</td>\n",
       "      <td>893EA22F-08BE-4F11-AD93-C50746E4565F</td>\n",
       "      <td>7F97465B-ED3C-45DB-BE96-86C7E493F0CD</td>\n",
       "      <td>0</td>\n",
       "      <td>0.8636</td>\n",
       "      <td>...</td>\n",
       "      <td>0</td>\n",
       "      <td>15</td>\n",
       "      <td>1</td>\n",
       "      <td>9</td>\n",
       "      <td>0</td>\n",
       "      <td>49</td>\n",
       "      <td>0.887446</td>\n",
       "      <td>4</td>\n",
       "      <td>4</td>\n",
       "      <td>True</td>\n",
       "    </tr>\n",
       "    <tr>\n",
       "      <td>2017-11-01</td>\n",
       "      <td>3</td>\n",
       "      <td>332</td>\n",
       "      <td>70</td>\n",
       "      <td>2</td>\n",
       "      <td>0</td>\n",
       "      <td>11</td>\n",
       "      <td>893EA22F-08BE-4F11-AD93-C50746E4565F</td>\n",
       "      <td>7F97465B-ED3C-45DB-BE96-86C7E493F0CD</td>\n",
       "      <td>0</td>\n",
       "      <td>0.8000</td>\n",
       "      <td>...</td>\n",
       "      <td>0</td>\n",
       "      <td>15</td>\n",
       "      <td>1</td>\n",
       "      <td>9</td>\n",
       "      <td>0</td>\n",
       "      <td>43</td>\n",
       "      <td>0.887446</td>\n",
       "      <td>5</td>\n",
       "      <td>5</td>\n",
       "      <td>True</td>\n",
       "    </tr>\n",
       "    <tr>\n",
       "      <td>...</td>\n",
       "      <td>...</td>\n",
       "      <td>...</td>\n",
       "      <td>...</td>\n",
       "      <td>...</td>\n",
       "      <td>...</td>\n",
       "      <td>...</td>\n",
       "      <td>...</td>\n",
       "      <td>...</td>\n",
       "      <td>...</td>\n",
       "      <td>...</td>\n",
       "      <td>...</td>\n",
       "      <td>...</td>\n",
       "      <td>...</td>\n",
       "      <td>...</td>\n",
       "      <td>...</td>\n",
       "      <td>...</td>\n",
       "      <td>...</td>\n",
       "      <td>...</td>\n",
       "      <td>...</td>\n",
       "      <td>...</td>\n",
       "      <td>...</td>\n",
       "      <td>...</td>\n",
       "    </tr>\n",
       "    <tr>\n",
       "      <td rowspan=\"5\" valign=\"top\">FFF3B179-1D20-40FF-A330-A051BDF37301</td>\n",
       "      <td>2018-10-01</td>\n",
       "      <td>1</td>\n",
       "      <td>295</td>\n",
       "      <td>2</td>\n",
       "      <td>1</td>\n",
       "      <td>1</td>\n",
       "      <td>18</td>\n",
       "      <td>9417F950-B661-48E8-84CF-8DDB1F8FDB50</td>\n",
       "      <td>56FF7210-52AF-4E4D-BEE9-3411E73BF063</td>\n",
       "      <td>0</td>\n",
       "      <td>1.0511</td>\n",
       "      <td>...</td>\n",
       "      <td>0</td>\n",
       "      <td>22</td>\n",
       "      <td>0</td>\n",
       "      <td>22</td>\n",
       "      <td>0</td>\n",
       "      <td>55</td>\n",
       "      <td>0.255562</td>\n",
       "      <td>1</td>\n",
       "      <td>1</td>\n",
       "      <td>True</td>\n",
       "    </tr>\n",
       "    <tr>\n",
       "      <td>2018-11-01</td>\n",
       "      <td>1</td>\n",
       "      <td>295</td>\n",
       "      <td>2</td>\n",
       "      <td>1</td>\n",
       "      <td>1</td>\n",
       "      <td>18</td>\n",
       "      <td>9417F950-B661-48E8-84CF-8DDB1F8FDB50</td>\n",
       "      <td>56FF7210-52AF-4E4D-BEE9-3411E73BF063</td>\n",
       "      <td>0</td>\n",
       "      <td>1.0326</td>\n",
       "      <td>...</td>\n",
       "      <td>0</td>\n",
       "      <td>22</td>\n",
       "      <td>0</td>\n",
       "      <td>22</td>\n",
       "      <td>0</td>\n",
       "      <td>55</td>\n",
       "      <td>0.255562</td>\n",
       "      <td>2</td>\n",
       "      <td>2</td>\n",
       "      <td>True</td>\n",
       "    </tr>\n",
       "    <tr>\n",
       "      <td>2018-12-01</td>\n",
       "      <td>1</td>\n",
       "      <td>295</td>\n",
       "      <td>2</td>\n",
       "      <td>1</td>\n",
       "      <td>0</td>\n",
       "      <td>18</td>\n",
       "      <td>9417F950-B661-48E8-84CF-8DDB1F8FDB50</td>\n",
       "      <td>56FF7210-52AF-4E4D-BEE9-3411E73BF063</td>\n",
       "      <td>0</td>\n",
       "      <td>1.0284</td>\n",
       "      <td>...</td>\n",
       "      <td>0</td>\n",
       "      <td>22</td>\n",
       "      <td>0</td>\n",
       "      <td>22</td>\n",
       "      <td>0</td>\n",
       "      <td>55</td>\n",
       "      <td>0.255562</td>\n",
       "      <td>3</td>\n",
       "      <td>3</td>\n",
       "      <td>True</td>\n",
       "    </tr>\n",
       "    <tr>\n",
       "      <td>2019-01-01</td>\n",
       "      <td>1</td>\n",
       "      <td>295</td>\n",
       "      <td>2</td>\n",
       "      <td>1</td>\n",
       "      <td>0</td>\n",
       "      <td>18</td>\n",
       "      <td>9417F950-B661-48E8-84CF-8DDB1F8FDB50</td>\n",
       "      <td>56FF7210-52AF-4E4D-BEE9-3411E73BF063</td>\n",
       "      <td>0</td>\n",
       "      <td>1.0250</td>\n",
       "      <td>...</td>\n",
       "      <td>0</td>\n",
       "      <td>22</td>\n",
       "      <td>0</td>\n",
       "      <td>22</td>\n",
       "      <td>0</td>\n",
       "      <td>51</td>\n",
       "      <td>0.306113</td>\n",
       "      <td>4</td>\n",
       "      <td>1</td>\n",
       "      <td>True</td>\n",
       "    </tr>\n",
       "    <tr>\n",
       "      <td>2019-02-01</td>\n",
       "      <td>1</td>\n",
       "      <td>295</td>\n",
       "      <td>2</td>\n",
       "      <td>1</td>\n",
       "      <td>0</td>\n",
       "      <td>18</td>\n",
       "      <td>9417F950-B661-48E8-84CF-8DDB1F8FDB50</td>\n",
       "      <td>56FF7210-52AF-4E4D-BEE9-3411E73BF063</td>\n",
       "      <td>0</td>\n",
       "      <td>1.0238</td>\n",
       "      <td>...</td>\n",
       "      <td>0</td>\n",
       "      <td>22</td>\n",
       "      <td>0</td>\n",
       "      <td>22</td>\n",
       "      <td>0</td>\n",
       "      <td>50</td>\n",
       "      <td>0.306113</td>\n",
       "      <td>5</td>\n",
       "      <td>2</td>\n",
       "      <td>True</td>\n",
       "    </tr>\n",
       "  </tbody>\n",
       "</table>\n",
       "<p>75763 rows × 23 columns</p>\n",
       "</div>"
      ],
      "text/plain": [
       "                                                 DevCenterID  SBUID  \\\n",
       "EmployeeID                           Date                             \n",
       "00116D71-E87D-4B64-A566-1F29B2A798A8 2017-07-01            3    292   \n",
       "                                     2017-08-01            3    332   \n",
       "                                     2017-09-01            3    332   \n",
       "                                     2017-10-01            3    332   \n",
       "                                     2017-11-01            3    332   \n",
       "...                                                      ...    ...   \n",
       "FFF3B179-1D20-40FF-A330-A051BDF37301 2018-10-01            1    295   \n",
       "                                     2018-11-01            1    295   \n",
       "                                     2018-12-01            1    295   \n",
       "                                     2019-01-01            1    295   \n",
       "                                     2019-02-01            1    295   \n",
       "\n",
       "                                                 PositionID  PositionLevel  \\\n",
       "EmployeeID                           Date                                    \n",
       "00116D71-E87D-4B64-A566-1F29B2A798A8 2017-07-01          70              2   \n",
       "                                     2017-08-01          70              2   \n",
       "                                     2017-09-01          70              2   \n",
       "                                     2017-10-01          70              2   \n",
       "                                     2017-11-01          70              2   \n",
       "...                                                     ...            ...   \n",
       "FFF3B179-1D20-40FF-A330-A051BDF37301 2018-10-01           2              1   \n",
       "                                     2018-11-01           2              1   \n",
       "                                     2018-12-01           2              1   \n",
       "                                     2019-01-01           2              1   \n",
       "                                     2019-02-01           2              1   \n",
       "\n",
       "                                                 IsTrainee  LanguageLevelID  \\\n",
       "EmployeeID                           Date                                     \n",
       "00116D71-E87D-4B64-A566-1F29B2A798A8 2017-07-01          0               11   \n",
       "                                     2017-08-01          0               11   \n",
       "                                     2017-09-01          0               11   \n",
       "                                     2017-10-01          0               11   \n",
       "                                     2017-11-01          0               11   \n",
       "...                                                    ...              ...   \n",
       "FFF3B179-1D20-40FF-A330-A051BDF37301 2018-10-01          1               18   \n",
       "                                     2018-11-01          1               18   \n",
       "                                     2018-12-01          0               18   \n",
       "                                     2019-01-01          0               18   \n",
       "                                     2019-02-01          0               18   \n",
       "\n",
       "                                                                           CustomerID  \\\n",
       "EmployeeID                           Date                                               \n",
       "00116D71-E87D-4B64-A566-1F29B2A798A8 2017-07-01  893EA22F-08BE-4F11-AD93-C50746E4565F   \n",
       "                                     2017-08-01  893EA22F-08BE-4F11-AD93-C50746E4565F   \n",
       "                                     2017-09-01  893EA22F-08BE-4F11-AD93-C50746E4565F   \n",
       "                                     2017-10-01  893EA22F-08BE-4F11-AD93-C50746E4565F   \n",
       "                                     2017-11-01  893EA22F-08BE-4F11-AD93-C50746E4565F   \n",
       "...                                                                               ...   \n",
       "FFF3B179-1D20-40FF-A330-A051BDF37301 2018-10-01  9417F950-B661-48E8-84CF-8DDB1F8FDB50   \n",
       "                                     2018-11-01  9417F950-B661-48E8-84CF-8DDB1F8FDB50   \n",
       "                                     2018-12-01  9417F950-B661-48E8-84CF-8DDB1F8FDB50   \n",
       "                                     2019-01-01  9417F950-B661-48E8-84CF-8DDB1F8FDB50   \n",
       "                                     2019-02-01  9417F950-B661-48E8-84CF-8DDB1F8FDB50   \n",
       "\n",
       "                                                                            ProjectID  \\\n",
       "EmployeeID                           Date                                               \n",
       "00116D71-E87D-4B64-A566-1F29B2A798A8 2017-07-01  7F97465B-ED3C-45DB-BE96-86C7E493F0CD   \n",
       "                                     2017-08-01  7F97465B-ED3C-45DB-BE96-86C7E493F0CD   \n",
       "                                     2017-09-01  7F97465B-ED3C-45DB-BE96-86C7E493F0CD   \n",
       "                                     2017-10-01  7F97465B-ED3C-45DB-BE96-86C7E493F0CD   \n",
       "                                     2017-11-01  7F97465B-ED3C-45DB-BE96-86C7E493F0CD   \n",
       "...                                                                               ...   \n",
       "FFF3B179-1D20-40FF-A330-A051BDF37301 2018-10-01  56FF7210-52AF-4E4D-BEE9-3411E73BF063   \n",
       "                                     2018-11-01  56FF7210-52AF-4E4D-BEE9-3411E73BF063   \n",
       "                                     2018-12-01  56FF7210-52AF-4E4D-BEE9-3411E73BF063   \n",
       "                                     2019-01-01  56FF7210-52AF-4E4D-BEE9-3411E73BF063   \n",
       "                                     2019-02-01  56FF7210-52AF-4E4D-BEE9-3411E73BF063   \n",
       "\n",
       "                                                 IsInternalProject  \\\n",
       "EmployeeID                           Date                            \n",
       "00116D71-E87D-4B64-A566-1F29B2A798A8 2017-07-01                  0   \n",
       "                                     2017-08-01                  0   \n",
       "                                     2017-09-01                  0   \n",
       "                                     2017-10-01                  0   \n",
       "                                     2017-11-01                  0   \n",
       "...                                                            ...   \n",
       "FFF3B179-1D20-40FF-A330-A051BDF37301 2018-10-01                  0   \n",
       "                                     2018-11-01                  0   \n",
       "                                     2018-12-01                  0   \n",
       "                                     2019-01-01                  0   \n",
       "                                     2019-02-01                  0   \n",
       "\n",
       "                                                 Utilization  ...  OnSite  \\\n",
       "EmployeeID                           Date                     ...           \n",
       "00116D71-E87D-4B64-A566-1F29B2A798A8 2017-07-01       0.7619  ...       0   \n",
       "                                     2017-08-01       1.0000  ...       0   \n",
       "                                     2017-09-01       0.5000  ...       0   \n",
       "                                     2017-10-01       0.8636  ...       0   \n",
       "                                     2017-11-01       0.8000  ...       0   \n",
       "...                                                      ...  ...     ...   \n",
       "FFF3B179-1D20-40FF-A330-A051BDF37301 2018-10-01       1.0511  ...       0   \n",
       "                                     2018-11-01       1.0326  ...       0   \n",
       "                                     2018-12-01       1.0284  ...       0   \n",
       "                                     2019-01-01       1.0250  ...       0   \n",
       "                                     2019-02-01       1.0238  ...       0   \n",
       "\n",
       "                                                 CompetenceGroupID  \\\n",
       "EmployeeID                           Date                            \n",
       "00116D71-E87D-4B64-A566-1F29B2A798A8 2017-07-01                 15   \n",
       "                                     2017-08-01                 15   \n",
       "                                     2017-09-01                 15   \n",
       "                                     2017-10-01                 15   \n",
       "                                     2017-11-01                 15   \n",
       "...                                                            ...   \n",
       "FFF3B179-1D20-40FF-A330-A051BDF37301 2018-10-01                 22   \n",
       "                                     2018-11-01                 22   \n",
       "                                     2018-12-01                 22   \n",
       "                                     2019-01-01                 22   \n",
       "                                     2019-02-01                 22   \n",
       "\n",
       "                                                 FunctionalOfficeID  \\\n",
       "EmployeeID                           Date                             \n",
       "00116D71-E87D-4B64-A566-1F29B2A798A8 2017-07-01                   1   \n",
       "                                     2017-08-01                   1   \n",
       "                                     2017-09-01                   1   \n",
       "                                     2017-10-01                   1   \n",
       "                                     2017-11-01                   1   \n",
       "...                                                             ...   \n",
       "FFF3B179-1D20-40FF-A330-A051BDF37301 2018-10-01                   0   \n",
       "                                     2018-11-01                   0   \n",
       "                                     2018-12-01                   0   \n",
       "                                     2019-01-01                   0   \n",
       "                                     2019-02-01                   0   \n",
       "\n",
       "                                                 PaymentTypeId  BonusOneTime  \\\n",
       "EmployeeID                           Date                                      \n",
       "00116D71-E87D-4B64-A566-1F29B2A798A8 2017-07-01              9             0   \n",
       "                                     2017-08-01              9           200   \n",
       "                                     2017-09-01              9             0   \n",
       "                                     2017-10-01              9             0   \n",
       "                                     2017-11-01              9             0   \n",
       "...                                                        ...           ...   \n",
       "FFF3B179-1D20-40FF-A330-A051BDF37301 2018-10-01             22             0   \n",
       "                                     2018-11-01             22             0   \n",
       "                                     2018-12-01             22             0   \n",
       "                                     2019-01-01             22             0   \n",
       "                                     2019-02-01             22             0   \n",
       "\n",
       "                                                 APM  WageGross  \\\n",
       "EmployeeID                           Date                         \n",
       "00116D71-E87D-4B64-A566-1F29B2A798A8 2017-07-01   39   0.887446   \n",
       "                                     2017-08-01   28   0.887446   \n",
       "                                     2017-09-01   43   0.887446   \n",
       "                                     2017-10-01   49   0.887446   \n",
       "                                     2017-11-01   43   0.887446   \n",
       "...                                              ...        ...   \n",
       "FFF3B179-1D20-40FF-A330-A051BDF37301 2018-10-01   55   0.255562   \n",
       "                                     2018-11-01   55   0.255562   \n",
       "                                     2018-12-01   55   0.255562   \n",
       "                                     2019-01-01   51   0.306113   \n",
       "                                     2019-02-01   50   0.306113   \n",
       "\n",
       "                                                 MonthOnPosition  \\\n",
       "EmployeeID                           Date                          \n",
       "00116D71-E87D-4B64-A566-1F29B2A798A8 2017-07-01                1   \n",
       "                                     2017-08-01                2   \n",
       "                                     2017-09-01                3   \n",
       "                                     2017-10-01                4   \n",
       "                                     2017-11-01                5   \n",
       "...                                                          ...   \n",
       "FFF3B179-1D20-40FF-A330-A051BDF37301 2018-10-01                1   \n",
       "                                     2018-11-01                2   \n",
       "                                     2018-12-01                3   \n",
       "                                     2019-01-01                4   \n",
       "                                     2019-02-01                5   \n",
       "\n",
       "                                                 MonthOnSalary  IsHired  \n",
       "EmployeeID                           Date                                \n",
       "00116D71-E87D-4B64-A566-1F29B2A798A8 2017-07-01              1     True  \n",
       "                                     2017-08-01              2     True  \n",
       "                                     2017-09-01              3     True  \n",
       "                                     2017-10-01              4     True  \n",
       "                                     2017-11-01              5     True  \n",
       "...                                                        ...      ...  \n",
       "FFF3B179-1D20-40FF-A330-A051BDF37301 2018-10-01              1     True  \n",
       "                                     2018-11-01              2     True  \n",
       "                                     2018-12-01              3     True  \n",
       "                                     2019-01-01              1     True  \n",
       "                                     2019-02-01              2     True  \n",
       "\n",
       "[75763 rows x 23 columns]"
      ]
     },
     "execution_count": 13,
     "metadata": {},
     "output_type": "execute_result"
    }
   ],
   "source": [
    "hired_empl_history = history[history.EmployeeID.isin(hired_emplID.values)].set_index(['EmployeeID', 'Date'])\n",
    "hired_empl_history['IsHired'] = True\n",
    "hired_empl_history"
   ]
  },
  {
   "cell_type": "markdown",
   "metadata": {},
   "source": [
    "История работников, которые уволились"
   ]
  },
  {
   "cell_type": "code",
   "execution_count": 59,
   "metadata": {
    "scrolled": true
   },
   "outputs": [
    {
     "data": {
      "text/plain": [
       "DevCenterID             21\n",
       "SBUID                   98\n",
       "PositionID             159\n",
       "PositionLevel            9\n",
       "IsTrainee                2\n",
       "LanguageLevelID         17\n",
       "CustomerID             160\n",
       "ProjectID              664\n",
       "IsInternalProject        2\n",
       "Utilization            565\n",
       "HourVacation            37\n",
       "HourMobileReserve       51\n",
       "HourLockedReserve       45\n",
       "OnSite                   2\n",
       "CompetenceGroupID       22\n",
       "FunctionalOfficeID       8\n",
       "PaymentTypeId           15\n",
       "BonusOneTime           472\n",
       "APM                    301\n",
       "WageGross             1949\n",
       "MonthOnPosition         20\n",
       "MonthOnSalary           20\n",
       "IsHired                  1\n",
       "dtype: int64"
      ]
     },
     "execution_count": 59,
     "metadata": {},
     "output_type": "execute_result"
    }
   ],
   "source": [
    "dismissed_empl_history = history[history.EmployeeID.isin(dismissed_emplID.values)].set_index(['EmployeeID', 'Date'])\n",
    "dismissed_empl_history['IsHired'] = False\n",
    "dismissed_empl_history.nunique()"
   ]
  },
  {
   "cell_type": "markdown",
   "metadata": {},
   "source": [
    "## Графики"
   ]
  },
  {
   "cell_type": "code",
   "execution_count": 60,
   "metadata": {},
   "outputs": [],
   "source": [
    "countplot_columns = ['PositionLevel', \n",
    "                     'IsTrainee', \n",
    "                     'LanguageLevelID',\n",
    "                     'IsInternalProject', \n",
    "                     'OnSite', \n",
    "                     'PaymentTypeId',\n",
    "                     'FunctionalOfficeID',\n",
    "                    ]"
   ]
  },
  {
   "cell_type": "code",
   "execution_count": 76,
   "metadata": {},
   "outputs": [
    {
     "ename": "IndexError",
     "evalue": "list index out of range",
     "output_type": "error",
     "traceback": [
      "\u001b[1;31m---------------------------------------------------------------------------\u001b[0m",
      "\u001b[1;31mIndexError\u001b[0m                                Traceback (most recent call last)",
      "\u001b[1;32m<ipython-input-76-133597efcba5>\u001b[0m in \u001b[0;36m<module>\u001b[1;34m\u001b[0m\n\u001b[0;32m      1\u001b[0m \u001b[0mfig\u001b[0m\u001b[1;33m,\u001b[0m \u001b[0max\u001b[0m \u001b[1;33m=\u001b[0m \u001b[0mplt\u001b[0m\u001b[1;33m.\u001b[0m\u001b[0msubplots\u001b[0m\u001b[1;33m(\u001b[0m\u001b[1;36m3\u001b[0m\u001b[1;33m,\u001b[0m \u001b[1;36m3\u001b[0m\u001b[1;33m,\u001b[0m \u001b[0mfigsize\u001b[0m\u001b[1;33m=\u001b[0m\u001b[1;33m(\u001b[0m\u001b[1;36m20\u001b[0m\u001b[1;33m,\u001b[0m \u001b[1;36m20\u001b[0m\u001b[1;33m)\u001b[0m\u001b[1;33m)\u001b[0m\u001b[1;33m\u001b[0m\u001b[1;33m\u001b[0m\u001b[0m\n\u001b[0;32m      2\u001b[0m \u001b[1;32mfor\u001b[0m \u001b[0midx\u001b[0m\u001b[1;33m,\u001b[0m \u001b[0max\u001b[0m \u001b[1;32min\u001b[0m \u001b[0menumerate\u001b[0m\u001b[1;33m(\u001b[0m\u001b[0max\u001b[0m\u001b[1;33m.\u001b[0m\u001b[0mflat\u001b[0m\u001b[1;33m)\u001b[0m\u001b[1;33m:\u001b[0m\u001b[1;33m\u001b[0m\u001b[1;33m\u001b[0m\u001b[0m\n\u001b[1;32m----> 3\u001b[1;33m     \u001b[0msns\u001b[0m\u001b[1;33m.\u001b[0m\u001b[0mcountplot\u001b[0m\u001b[1;33m(\u001b[0m\u001b[0mx\u001b[0m\u001b[1;33m=\u001b[0m\u001b[0mcountplot_columns\u001b[0m\u001b[1;33m[\u001b[0m\u001b[0midx\u001b[0m\u001b[1;33m]\u001b[0m\u001b[1;33m,\u001b[0m \u001b[0mdata\u001b[0m\u001b[1;33m=\u001b[0m\u001b[0mdismissed_empl_history\u001b[0m\u001b[1;33m,\u001b[0m \u001b[0max\u001b[0m\u001b[1;33m=\u001b[0m\u001b[0max\u001b[0m\u001b[1;33m)\u001b[0m \u001b[1;31m#row=0, col=0\u001b[0m\u001b[1;33m\u001b[0m\u001b[1;33m\u001b[0m\u001b[0m\n\u001b[0m\u001b[0;32m      4\u001b[0m \u001b[0mfig\u001b[0m\u001b[1;33m.\u001b[0m\u001b[0mshow\u001b[0m\u001b[1;33m(\u001b[0m\u001b[1;33m)\u001b[0m\u001b[1;33m\u001b[0m\u001b[1;33m\u001b[0m\u001b[0m\n",
      "\u001b[1;31mIndexError\u001b[0m: list index out of range"
     ]
    },
    {
     "data": {
      "image/png": "[encoded data removed]",
      "text/plain": [
       "<Figure size 1440x1440 with 9 Axes>"
      ]
     },
     "metadata": {
      "needs_background": "light"
     },
     "output_type": "display_data"
    }
   ],
   "source": [
    "fig, ax = plt.subplots(3, 3, figsize=(20, 20))\n",
    "for idx, ax in enumerate(ax.flat):\n",
    "    sns.countplot(x=countplot_columns[idx], data=dismissed_empl_history, ax=ax) #row=0, col=0\n",
    "fig.show()"
   ]
  },
  {
   "cell_type": "code",
   "execution_count": 48,
   "metadata": {},
   "outputs": [
    {
     "data": {
      "text/plain": [
       "<matplotlib.axes._subplots.AxesSubplot at 0x23bea6bb948>"
      ]
     },
     "execution_count": 48,
     "metadata": {},
     "output_type": "execute_result"
    },
    {
     "data": {
      "image/png": "[encoded data removed]",
      "text/plain": [
       "<Figure size 432x288 with 1 Axes>"
      ]
     },
     "metadata": {
      "needs_background": "light"
     },
     "output_type": "display_data"
    }
   ],
   "source": [
    "hired_data = pd.concat([dismissed_empl_history, hired_empl_history])\n",
    "sns.countplot(x='IsTrainee', data=dismissed_empl_history)"
   ]
  },
  {
   "cell_type": "code",
   "execution_count": 15,
   "metadata": {
    "scrolled": false
   },
   "outputs": [
    {
     "data": {
      "text/plain": [
       "<seaborn.axisgrid.PairGrid at 0x23be85efe08>"
      ]
     },
     "execution_count": 15,
     "metadata": {},
     "output_type": "execute_result"
    },
    {
     "data": {
      "text/plain": [
       "<Figure size 720x576 with 0 Axes>"
      ]
     },
     "metadata": {},
     "output_type": "display_data"
    },
    {
     "data": {
      "image/png": "[encoded data removed]",
      "text/plain": [
       "<Figure size 782.125x720 with 20 Axes>"
      ]
     },
     "metadata": {
      "needs_background": "light"
     },
     "output_type": "display_data"
    }
   ],
   "source": [
    "paiplot_columns = ['IsHired', 'Utilization', 'WageGross', 'MonthOnPosition', 'MonthOnSalary']\n",
    "paiplot_data = pd.concat([dismissed_empl_history[paiplot_columns].groupby('EmployeeID').max(),\n",
    "                          hired_empl_history[paiplot_columns].groupby('EmployeeID').max()])\n",
    "\n",
    "plt.figure(figsize=(10,8))\n",
    "sns.pairplot(paiplot_data, hue = 'IsHired', hue_order=[True, False], palette = 'muted', diag_kind='kde', vars=paiplot_columns[1:])"
   ]
  },
  {
   "cell_type": "markdown",
   "metadata": {},
   "source": [
    "Выводы:\n",
    "1. Работники увольняются в большинстве на 8-9 месяце пребывания на одной позиции. После преодоления 10-месячного рубежа работники все меньше склонны увольняться.\n",
    "2. Решение не зависит от зарплаты, так как плотности максимальных WageGross за карьеру распределены одинаково."
   ]
  },
  {
   "cell_type": "markdown",
   "metadata": {},
   "source": [
    "## Пытаемся разделить данные на тест и обучение"
   ]
  },
  {
   "cell_type": "markdown",
   "metadata": {},
   "source": [
    "Перечислим все даты"
   ]
  },
  {
   "cell_type": "code",
   "execution_count": 16,
   "metadata": {
    "scrolled": true
   },
   "outputs": [
    {
     "data": {
      "text/plain": [
       "array(['2017-07-01T00:00:00.000000000', '2017-08-01T00:00:00.000000000',\n",
       "       '2017-09-01T00:00:00.000000000', '2017-10-01T00:00:00.000000000',\n",
       "       '2017-11-01T00:00:00.000000000', '2017-12-01T00:00:00.000000000',\n",
       "       '2018-01-01T00:00:00.000000000', '2018-02-01T00:00:00.000000000',\n",
       "       '2018-03-01T00:00:00.000000000', '2018-04-01T00:00:00.000000000',\n",
       "       '2018-05-01T00:00:00.000000000', '2018-06-01T00:00:00.000000000',\n",
       "       '2018-07-01T00:00:00.000000000', '2018-08-01T00:00:00.000000000',\n",
       "       '2018-09-01T00:00:00.000000000', '2018-10-01T00:00:00.000000000',\n",
       "       '2018-11-01T00:00:00.000000000', '2018-12-01T00:00:00.000000000',\n",
       "       '2019-01-01T00:00:00.000000000', '2019-02-01T00:00:00.000000000'],\n",
       "      dtype='datetime64[ns]')"
      ]
     },
     "execution_count": 16,
     "metadata": {},
     "output_type": "execute_result"
    }
   ],
   "source": [
    "hist_dates = history.Date.unique()\n",
    "hist_dates"
   ]
  },
  {
   "cell_type": "markdown",
   "metadata": {},
   "source": [
    "Так как я не умею в Тайм Сериес, буду собирать статичный датасет. Будем групировать по работникам. Функции для агрегации:"
   ]
  },
  {
   "cell_type": "code",
   "execution_count": 17,
   "metadata": {},
   "outputs": [
    {
     "data": {
      "text/plain": [
       "{'DevCenterID': 'mean',\n",
       " 'SBUID': 'mean',\n",
       " 'PositionID': 'mean',\n",
       " 'PositionLevel': 'sum',\n",
       " 'IsTrainee': 'max',\n",
       " 'LanguageLevelID': 'max',\n",
       " 'IsInternalProject': 'max',\n",
       " 'Utilization': 'mean',\n",
       " 'HourVacation': 'sum',\n",
       " 'HourMobileReserve': 'mean',\n",
       " 'HourLockedReserve': 'mean',\n",
       " 'OnSite': 'max',\n",
       " 'CompetenceGroupID': 'mean',\n",
       " 'FunctionalOfficeID': 'mean',\n",
       " 'PaymentTypeId': 'mean',\n",
       " 'BonusOneTime': 'sum',\n",
       " 'APM': 'mean',\n",
       " 'WageGross': 'mean',\n",
       " 'MonthOnPosition': 'max',\n",
       " 'MonthOnSalary': 'max'}"
      ]
     },
     "execution_count": 17,
     "metadata": {},
     "output_type": "execute_result"
    }
   ],
   "source": [
    "agg_funcs = {}\n",
    "              \n",
    "for col in concatenate([history.columns[2:8], history.columns[10:]]):\n",
    "    agg_funcs[col] = 'mean'\n",
    "    if col in ['MonthOnPosition', 'MonthOnSalary', 'IsTrainee','OnSite', 'IsInternalProject', 'LanguageLevelID']:\n",
    "        agg_funcs[col] = 'max'\n",
    "    if col in ['BonusOneTime', 'HourVacation', 'PositionLevel']:\n",
    "        agg_funcs[col] = 'sum'\n",
    "agg_funcs"
   ]
  },
  {
   "cell_type": "markdown",
   "metadata": {},
   "source": [
    "Каждая партия данных содержит все данные о работниках, которые в определенный момент времени работают в компании. В столбце таргета 1 или 0 - уволился работник в период след 3 месяцев или нет. Партии берутся с периодом в 3 месяца, начиная со 2."
   ]
  },
  {
   "cell_type": "markdown",
   "metadata": {},
   "source": [
    "Данные из 'CustomerID' и 'ProjectID' не учитываются."
   ]
  },
  {
   "cell_type": "code",
   "execution_count": 18,
   "metadata": {},
   "outputs": [
    {
     "data": {
      "text/plain": [
       "6"
      ]
     },
     "execution_count": 18,
     "metadata": {},
     "output_type": "execute_result"
    }
   ],
   "source": [
    "data_batches = []\n",
    "employeesID = employees.EmployeeID\n",
    "# employees.set_index('EmployeeID')\n",
    "for date in hist_dates[2::3]:\n",
    "    period_employees = history[history.Date == date].EmployeeID\n",
    "    period_data = history[history.EmployeeID.isin(employeesID) & (history.Date <= date)]\n",
    "    period_data = period_data.drop(columns=['CustomerID', 'ProjectID', 'Date']).groupby('EmployeeID').agg(agg_funcs)\n",
    "    period_data['target'] = 0\n",
    "    \n",
    "    for employee in period_employees:\n",
    "        dismiss_date = employees[employees.EmployeeID == employee].iloc[0].DismissalDate\n",
    "        \n",
    "        if not pd.isnull(dismiss_date):\n",
    "            \n",
    "            if (dismiss_date - date) < np.timedelta64(3, 'M'):\n",
    "                period_data.at[employee, 'target'] = 1\n",
    "    data_batches.append(period_data)\n",
    "\n",
    "len(data_batches)"
   ]
  },
  {
   "cell_type": "code",
   "execution_count": 19,
   "metadata": {},
   "outputs": [
    {
     "data": {
      "text/plain": [
       "Index(['DevCenterID', 'SBUID', 'PositionID', 'PositionLevel', 'IsTrainee',\n",
       "       'LanguageLevelID', 'IsInternalProject', 'Utilization', 'HourVacation',\n",
       "       'HourMobileReserve', 'HourLockedReserve', 'OnSite', 'CompetenceGroupID',\n",
       "       'FunctionalOfficeID', 'PaymentTypeId', 'BonusOneTime', 'APM',\n",
       "       'WageGross', 'MonthOnPosition', 'MonthOnSalary', 'target'],\n",
       "      dtype='object')"
      ]
     },
     "execution_count": 19,
     "metadata": {},
     "output_type": "execute_result"
    }
   ],
   "source": [
    "data_batches[0].columns"
   ]
  },
  {
   "cell_type": "markdown",
   "metadata": {},
   "source": [
    "Соединяем необходимое нам число партий в обучающую выборку. Балансируем выборку бутстрепом. Разбиваем на данные и таргет. "
   ]
  },
  {
   "cell_type": "code",
   "execution_count": 20,
   "metadata": {},
   "outputs": [
    {
     "data": {
      "text/plain": [
       "((10565, 20), 5373)"
      ]
     },
     "execution_count": 20,
     "metadata": {},
     "output_type": "execute_result"
    }
   ],
   "source": [
    "from sklearn.utils import resample\n",
    "\n",
    "train_data_x = []\n",
    "train_data_y = []\n",
    "for batch in data_batches[-1:]:\n",
    "    batch_minority = batch[batch.target == 1]\n",
    "    batch_majority = batch[batch.target == 0]\n",
    "    batch_minority_upsampled = resample(batch_minority, replace=True, n_samples=batch.shape[0], random_state=123)\n",
    "    batch_balanced = pd.concat([batch_majority, batch_minority_upsampled])\n",
    "    train_data_x.append(batch_balanced.drop('target', axis=1))\n",
    "    train_data_y.append(batch_balanced.target)\n",
    "    \n",
    "train_data_x = concatenate(train_data_x)\n",
    "train_data_y = concatenate(train_data_y)\n",
    "train_data_x.shape, train_data_y.sum()"
   ]
  },
  {
   "cell_type": "markdown",
   "metadata": {},
   "source": [
    "Стандартизируем данные."
   ]
  },
  {
   "cell_type": "code",
   "execution_count": 21,
   "metadata": {},
   "outputs": [
    {
     "data": {
      "text/plain": [
       "array([[-0.34369455,  0.47017803, -0.333095  , ...,  0.02157161,\n",
       "         1.11111694,  1.27749316],\n",
       "       [-0.59451254, -2.31887834,  0.25240141, ..., -0.23724599,\n",
       "        -0.38021978,  0.27258165],\n",
       "       [-0.59451254, -1.59597272, -0.28347666, ..., -0.30045306,\n",
       "         1.32416504,  0.7750374 ],\n",
       "       ...,\n",
       "       [-0.46910355,  0.67283875, -0.2231512 , ..., -0.61940707,\n",
       "        -0.59326788, -1.23478561],\n",
       "       [-0.59451254,  0.6024018 , -0.68773555, ...,  0.22791427,\n",
       "        -1.23241219, -1.48601348],\n",
       "       [ 0.28335043, -0.05959968, -0.49299289, ..., -0.57333406,\n",
       "        -1.23241219, -0.73232985]])"
      ]
     },
     "execution_count": 21,
     "metadata": {},
     "output_type": "execute_result"
    }
   ],
   "source": [
    "from sklearn.preprocessing import StandardScaler\n",
    "\n",
    "scaler = StandardScaler()\n",
    "scaler.fit(train_data_x)\n",
    "train_data_x = scaler.transform(train_data_x)\n",
    "train_data_x"
   ]
  },
  {
   "cell_type": "markdown",
   "metadata": {},
   "source": [
    "Сохраняю свои труды в файлики."
   ]
  },
  {
   "cell_type": "code",
   "execution_count": 22,
   "metadata": {},
   "outputs": [],
   "source": [
    "np.savetxt('train_data_x.csv', train_data_x, delimiter=',')\n",
    "np.savetxt('train_data_y.csv', train_data_y, delimiter=',')"
   ]
  },
  {
   "cell_type": "markdown",
   "metadata": {},
   "source": [
    "Аналогично создаем выборку, на которой будем прогнозировать."
   ]
  },
  {
   "cell_type": "code",
   "execution_count": 23,
   "metadata": {
    "scrolled": true
   },
   "outputs": [
    {
     "data": {
      "text/plain": [
       "array([[3.00000000e+00, 3.03600000e+02, 8.52500000e+01, ...,\n",
       "        9.24879133e-01, 1.70000000e+01, 1.40000000e+01],\n",
       "       [2.00000000e+00, 2.72000000e+02, 1.29750000e+02, ...,\n",
       "        6.47709430e-01, 1.00000000e+01, 5.00000000e+00],\n",
       "       [1.00000000e+00, 5.50000000e+01, 2.06000000e+02, ...,\n",
       "        3.66344015e-01, 2.00000000e+01, 1.10000000e+01],\n",
       "       ...,\n",
       "       [8.00000000e+00, 3.25300000e+02, 4.00000000e+00, ...,\n",
       "        1.63061800e+00, 2.00000000e+01, 2.00000000e+01],\n",
       "       [1.00000000e+00, 2.90000000e+01, 1.21000000e+02, ...,\n",
       "        3.64515060e-01, 2.00000000e+01, 1.30000000e+01],\n",
       "       [1.00000000e+00, 2.95000000e+02, 1.50000000e+00, ...,\n",
       "        2.41862820e-01, 5.00000000e+00, 4.00000000e+00]])"
      ]
     },
     "execution_count": 23,
     "metadata": {},
     "output_type": "execute_result"
    }
   ],
   "source": [
    "employeesID = submission.EmployeeID\n",
    "date = hist_dates[-1]\n",
    "submit_data_x = history[history.EmployeeID.isin(employeesID)]\n",
    "submit_data_x = submit_data_x.drop(columns=['CustomerID', 'ProjectID', 'Date']).groupby('EmployeeID').agg(agg_funcs)\n",
    "submit_data_x = np.array(submit_data_x)\n",
    "submit_data_x"
   ]
  },
  {
   "cell_type": "code",
   "execution_count": 24,
   "metadata": {},
   "outputs": [
    {
     "data": {
      "text/plain": [
       "array([[-0.18114409,  0.45184119, -0.41787302, ..., -0.06322304,\n",
       "         0.56322404,  0.88109847],\n",
       "       [-0.36586211,  0.13361151, -0.23964374, ..., -0.31636445,\n",
       "        -0.73688814, -1.08751794],\n",
       "       [-0.55058014, -2.0516999 ,  0.06574911, ..., -0.57333783,\n",
       "         1.12041497,  0.224893  ],\n",
       "       ...,\n",
       "       [ 0.74244605,  0.67037233, -0.74329163, ...,  0.58133416,\n",
       "         1.12041497,  2.19350941],\n",
       "       [-0.55058014, -2.31353444, -0.27468883, ..., -0.57500823,\n",
       "         1.12041497,  0.66236332],\n",
       "       [-0.55058014,  0.36523438, -0.75330451, ..., -0.68702754,\n",
       "        -1.6655397 , -1.30625309]])"
      ]
     },
     "execution_count": 24,
     "metadata": {},
     "output_type": "execute_result"
    }
   ],
   "source": [
    "scaler.fit(submit_data_x)\n",
    "submit_data_x = scaler.transform(submit_data_x)\n",
    "submit_data_x"
   ]
  },
  {
   "cell_type": "code",
   "execution_count": 25,
   "metadata": {},
   "outputs": [],
   "source": [
    "np.savetxt('submit_data_x.csv', submit_data_x, delimiter=',')"
   ]
  },
  {
   "cell_type": "markdown",
   "metadata": {},
   "source": [
    "## Прогнозирование"
   ]
  },
  {
   "cell_type": "code",
   "execution_count": 27,
   "metadata": {
    "scrolled": true
   },
   "outputs": [
    {
     "data": {
      "text/plain": [
       "array([[-0.34369455,  0.47017803, -0.333095  , ...,  0.02157161,\n",
       "         1.11111694,  1.27749316],\n",
       "       [-0.59451254, -2.31887834,  0.25240141, ..., -0.23724599,\n",
       "        -0.38021978,  0.27258165],\n",
       "       [-0.59451254, -1.59597272, -0.28347666, ..., -0.30045306,\n",
       "         1.32416504,  0.7750374 ],\n",
       "       ...,\n",
       "       [-0.46910355,  0.67283875, -0.2231512 , ..., -0.61940707,\n",
       "        -0.59326788, -1.23478561],\n",
       "       [-0.59451254,  0.6024018 , -0.68773555, ...,  0.22791427,\n",
       "        -1.23241219, -1.48601348],\n",
       "       [ 0.28335043, -0.05959968, -0.49299289, ..., -0.57333406,\n",
       "        -1.23241219, -0.73232985]])"
      ]
     },
     "execution_count": 27,
     "metadata": {},
     "output_type": "execute_result"
    }
   ],
   "source": [
    "train_data_x"
   ]
  },
  {
   "cell_type": "code",
   "execution_count": 29,
   "metadata": {},
   "outputs": [
    {
     "data": {
      "text/plain": [
       "array([[-0.18114409,  0.45184119, -0.41787302, ..., -0.06322304,\n",
       "         0.56322404,  0.88109847],\n",
       "       [-0.36586211,  0.13361151, -0.23964374, ..., -0.31636445,\n",
       "        -0.73688814, -1.08751794],\n",
       "       [-0.55058014, -2.0516999 ,  0.06574911, ..., -0.57333783,\n",
       "         1.12041497,  0.224893  ],\n",
       "       ...,\n",
       "       [ 0.74244605,  0.67037233, -0.74329163, ...,  0.58133416,\n",
       "         1.12041497,  2.19350941],\n",
       "       [-0.55058014, -2.31353444, -0.27468883, ..., -0.57500823,\n",
       "         1.12041497,  0.66236332],\n",
       "       [-0.55058014,  0.36523438, -0.75330451, ..., -0.68702754,\n",
       "        -1.6655397 , -1.30625309]])"
      ]
     },
     "execution_count": 29,
     "metadata": {},
     "output_type": "execute_result"
    }
   ],
   "source": [
    "submit_data_x"
   ]
  },
  {
   "cell_type": "code",
   "execution_count": 31,
   "metadata": {},
   "outputs": [
    {
     "name": "stderr",
     "output_type": "stream",
     "text": [
      "C:\\Users\\Kate\\Anaconda\\lib\\site-packages\\sklearn\\linear_model\\logistic.py:432: FutureWarning: Default solver will be changed to 'lbfgs' in 0.22. Specify a solver to silence this warning.\n",
      "  FutureWarning)\n"
     ]
    },
    {
     "data": {
      "text/plain": [
       "(4156, 2302)"
      ]
     },
     "execution_count": 31,
     "metadata": {},
     "output_type": "execute_result"
    }
   ],
   "source": [
    "from sklearn.linear_model import LogisticRegression\n",
    "\n",
    "lr = LogisticRegression(random_state = 0)\n",
    "lr.fit(train_data_x, train_data_y)\n",
    "submit_data_y = lr.predict(submit_data_x)\n",
    "len(submit_data_x), submit_data_y.sum()"
   ]
  },
  {
   "cell_type": "code",
   "execution_count": 32,
   "metadata": {},
   "outputs": [],
   "source": [
    "submit_df = pd.read_csv('submission.csv')\n",
    "test_id = submit_df.EmployeeID"
   ]
  },
  {
   "cell_type": "code",
   "execution_count": 33,
   "metadata": {},
   "outputs": [],
   "source": [
    "submission = pd.DataFrame({'EmployeeID': test_id, 'target':submit_data_y})\n",
    "submission.target = submission.target.astype(int)\n",
    "submission.to_csv('my_submission.csv', index=False)"
   ]
  },
  {
   "cell_type": "markdown",
   "metadata": {},
   "source": [
    "## Research.."
   ]
  },
  {
   "cell_type": "code",
   "execution_count": null,
   "metadata": {},
   "outputs": [],
   "source": [
    "model = ensemble.RandomForestClassifier()\n",
    "\n"
   ]
  }
 ],
 "metadata": {
  "kernelspec": {
   "display_name": "Python 3",
   "language": "python",
   "name": "python3"
  },
  "language_info": {
   "codemirror_mode": {
    "name": "ipython",
    "version": 3
   },
   "file_extension": ".py",
   "mimetype": "text/x-python",
   "name": "python",
   "nbconvert_exporter": "python",
   "pygments_lexer": "ipython3",
   "version": "3.7.4"
  }
 },
 "nbformat": 4,
 "nbformat_minor": 2
}
